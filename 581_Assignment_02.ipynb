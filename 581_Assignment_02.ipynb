{
  "nbformat": 4,
  "nbformat_minor": 0,
  "metadata": {
    "colab": {
      "name": "581-Assignment-02.ipynb",
      "provenance": []
    },
    "kernelspec": {
      "name": "python3",
      "display_name": "Python 3"
    },
    "language_info": {
      "name": "python"
    }
  },
  "cells": [
    {
      "cell_type": "markdown",
      "metadata": {
        "id": "9qAAcaPbYaM6"
      },
      "source": [
        "# *Assignment #2*\n",
        "## **[CSCI 581](https://www.ecst.csuchico.edu/~bjuliano/csci581/)**, Fall 2021\n",
        "Justin Case"
      ]
    },
    {
      "cell_type": "markdown",
      "metadata": {
        "id": "LYHU0ruKaRuA"
      },
      "source": [
        "# **Instructions**\n",
        "\n",
        "Answer the following questions based on the  [Life Expectancy (WHO) dataset](https://www.kaggle.com/augustus0498/life-expectancy-who) available [here](https://www.ecst.csuchico.edu/~bjuliano/csci581/datasets/Life%20Expectancy%20Data.csv) using any of the Python libraries we have discussed in class:\n"
      ]
    },
    {
      "cell_type": "markdown",
      "metadata": {
        "id": "yyM-BbXcUpJm"
      },
      "source": [
        "\n",
        "# A. Which country has the *shortest* average life expectancy?\n",
        "1. Support your answer by providing your  calculations.\n",
        "2. Support your answer by providing an appropriate chart."
      ]
    },
    {
      "cell_type": "markdown",
      "metadata": {
        "id": "RU48hEr2ai7_"
      },
      "source": [
        "## Solution(s)"
      ]
    },
    {
      "cell_type": "code",
      "metadata": {
        "id": "_rmaSuiTXV8p"
      },
      "source": [
        ""
      ],
      "execution_count": null,
      "outputs": []
    },
    {
      "cell_type": "markdown",
      "metadata": {
        "id": "PM5wKihZU7c0"
      },
      "source": [
        "# B. Which country has the *longest* average life expectancy?\n",
        "1.   Support your answer by providing your calculations.\n",
        "2.   Support your answer by providing an appropriate chart.\n",
        "\n",
        "\n"
      ]
    },
    {
      "cell_type": "markdown",
      "metadata": {
        "id": "nnwpCvi2Vggu"
      },
      "source": [
        "## Solution(s)"
      ]
    },
    {
      "cell_type": "code",
      "metadata": {
        "id": "0XFkenrNXWtg"
      },
      "source": [
        ""
      ],
      "execution_count": null,
      "outputs": []
    },
    {
      "cell_type": "markdown",
      "metadata": {
        "id": "uWIR9TwzVDje"
      },
      "source": [
        "# C. There is a claim that based on the data from the USA, that there exists a *linear correlation* between a person's *body mass index* (BMI) and their *life expectancy*. Use *linear regression* to validate this claim.\n",
        "1. Support your answer by providing your calculations.\n",
        "2. Support your answer by providing an appropriate chart."
      ]
    },
    {
      "cell_type": "markdown",
      "metadata": {
        "id": "x73hRic_V-RY"
      },
      "source": [
        "## Solution(s)"
      ]
    },
    {
      "cell_type": "code",
      "metadata": {
        "id": "RjvAlWebXXiR"
      },
      "source": [
        ""
      ],
      "execution_count": null,
      "outputs": []
    },
    {
      "cell_type": "markdown",
      "metadata": {
        "id": "nOaRzdwSW0TQ"
      },
      "source": [
        "# D. Use the data from any of the remaining 192 countries as a test set to validate the performance of the model you generated in Part C above. Explain how well your USA data-trained model is predicting the values for the country you selected.\n",
        "1. Support your answer by providing your  calculations.\n",
        "2. Support your answer by providing an appropriate chart."
      ]
    },
    {
      "cell_type": "markdown",
      "metadata": {
        "id": "MK5Xvr_7XZup"
      },
      "source": [
        "## Solution(s)"
      ]
    },
    {
      "cell_type": "code",
      "metadata": {
        "id": "qGc4-Cl8XbgQ"
      },
      "source": [
        ""
      ],
      "execution_count": null,
      "outputs": []
    },
    {
      "cell_type": "markdown",
      "metadata": {
        "id": "ZuCNQmAS_vrR"
      },
      "source": [
        "# Notes\n",
        "## *(Optional)* Include any final thoughts, comments, or observations here, if applicable."
      ]
    }
  ]
}