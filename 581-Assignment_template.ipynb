{
  "nbformat": 4,
  "nbformat_minor": 0,
  "metadata": {
    "colab": {
      "name": "581-Assignment_template.ipynb",
      "provenance": [],
      "collapsed_sections": [],
      "toc_visible": true
    },
    "kernelspec": {
      "name": "python3",
      "display_name": "Python 3"
    },
    "language_info": {
      "name": "python"
    }
  },
  "cells": [
    {
      "cell_type": "markdown",
      "metadata": {
        "id": "9qAAcaPbYaM6"
      },
      "source": [
        "# *Assignment #1*\n",
        "\n",
        "## **[CSCI 581](https://www.ecst.csuchico.edu/~bjuliano/csci581/)**, Fall 2021\n",
        "\n",
        "Your Name Goes Here"
      ]
    },
    {
      "cell_type": "markdown",
      "metadata": {
        "id": "LYHU0ruKaRuA"
      },
      "source": [
        "# **Problem Statement**\n",
        "## Given a list of integers, determine the following:\n",
        "\n",
        "1.   How many items are in the list?\n",
        "2. What is the minimum value in the list?\n",
        "3. What is the maximum value in the list?\n",
        "4. What is the sum of the values in the list?\n",
        "5. What is the average of the values in the list?\n",
        "\n",
        "\n"
      ]
    },
    {
      "cell_type": "markdown",
      "metadata": {
        "id": "RU48hEr2ai7_"
      },
      "source": [
        "# Solution"
      ]
    },
    {
      "cell_type": "markdown",
      "metadata": {
        "id": "4wdT3-m6_Wiy"
      },
      "source": [
        "## Step 1: Define a list"
      ]
    },
    {
      "cell_type": "code",
      "metadata": {
        "id": "uxHj4pSwYRb8"
      },
      "source": [
        "myList = [ 4 , 50 , 12 , 35 , 20 , 14 , 8 , 4134 , 10 ]"
      ],
      "execution_count": null,
      "outputs": []
    },
    {
      "cell_type": "markdown",
      "metadata": {
        "id": "wwgnHO_LbRWI"
      },
      "source": [
        ""
      ]
    },
    {
      "cell_type": "markdown",
      "metadata": {
        "id": "V5Q9Uii1_fRY"
      },
      "source": [
        "## Step 2: Count the number of items in the list"
      ]
    },
    {
      "cell_type": "code",
      "metadata": {
        "id": "5ww_VB9N_ieI"
      },
      "source": [
        "n = len( myList )\n",
        "\n",
        "print( \"The list has\" , n , \"items.\")"
      ],
      "execution_count": null,
      "outputs": []
    },
    {
      "cell_type": "markdown",
      "metadata": {
        "id": "gaLBZ7IkAcoi"
      },
      "source": [
        "## Additional steps as necessary ..."
      ]
    },
    {
      "cell_type": "code",
      "metadata": {
        "id": "zKmbJptvAqrx"
      },
      "source": [
        "# Some documented code goes here"
      ],
      "execution_count": null,
      "outputs": []
    },
    {
      "cell_type": "markdown",
      "metadata": {
        "id": "ZuCNQmAS_vrR"
      },
      "source": [
        "# Notes\n",
        "## *(Optional)* Include any final thoughts, comments, or observations here, if applicable."
      ]
    }
  ]
}