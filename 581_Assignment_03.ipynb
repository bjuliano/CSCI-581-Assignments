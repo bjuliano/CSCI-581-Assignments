{
  "nbformat": 4,
  "nbformat_minor": 0,
  "metadata": {
    "colab": {
      "name": "581_Assignment_03.ipynb",
      "provenance": [],
      "collapsed_sections": [],
      "toc_visible": true
    },
    "kernelspec": {
      "name": "python3",
      "display_name": "Python 3"
    },
    "language_info": {
      "name": "python"
    }
  },
  "cells": [
    {
      "cell_type": "markdown",
      "metadata": {
        "id": "9qAAcaPbYaM6"
      },
      "source": [
        "# *Assignment #3*\n",
        "## **[CSCI 581](https://www.ecst.csuchico.edu/~bjuliano/csci581/)**, Fall 2021\n",
        "\n",
        "Your Name Goes Here"
      ]
    },
    {
      "cell_type": "markdown",
      "metadata": {
        "id": "sBXGDnU-pA0C"
      },
      "source": [
        "## Predicting passenger survival on the *Titanic*\n",
        "\n",
        "Based on the [*Titanic - Machine Learning from Disaster*](https://www.kaggle.com/c/titanic) challenge from [Kaggle](https://www.kaggle.com/).\n",
        "The dataset is from the [Vanderbilt Biostatistics Datasets](https://hbiostat.org/data/)."
      ]
    },
    {
      "cell_type": "markdown",
      "metadata": {
        "id": "GGXW3rszFGhv"
      },
      "source": [
        "## Overview\n",
        "\n",
        "In this challenge you will use machine learning to create a model that predicts which passengers survived the *Titanic* shipwreck.\n",
        "\n",
        "The sinking of the *Titanic* is one of the most infamous shipwrecks in history.\n",
        "On April 15, 1912, during her maiden voyage, the widely considered \"unsinkable\" *RMS Titanic* sank after colliding with an iceberg. Unfortunately, there weren’t enough lifeboats for everyone onboard, resulting in the death of 1502 out of 2224 passengers and crew.\n",
        "\n",
        "While there was some element of luck involved in surviving, it seems some groups of people were more likely to survive than others.\n",
        "\n",
        "In this challenge, you will build a predictive model that answers the question: \"What are the attributes of the people who were more likely to survive the sinking of the *Titanic*?\" using passenger data (*i.e.* name, age, gender, socio-economic class, *etc.*)."
      ]
    },
    {
      "cell_type": "markdown",
      "metadata": {
        "id": "IHH3GSRfvNzO"
      },
      "source": [
        "## Data\n",
        "\n",
        "In this challenge, you will use a dataset that include passenger information like name, age, gender, socio-economic class, *etc*. This dataset is available as a file named [`titanic.csv`](https://www.ecst.csuchico.edu/~bjuliano/csci581/datasets/titanic.csv).\n",
        "\n",
        "The file [`titanic.csv`](https://www.ecst.csuchico.edu/~bjuliano/csci581/datasets/titanic.csv) contains the details of the 1309 passengers on board and importantly, will reveal whether they survived or not.\n",
        "The dataset file details include:\n",
        "\n",
        "*   `pclass`: passenger class; proxy for socio-economic status (1st ~ upper, 2nd ~ middle, 3rd ~ lower)\n",
        "*   `survived`: survival status (0=No, 1=Yes)\n",
        "*   `name`: passenger name\n",
        "*   `sex`: passenger sex (male, female)\n",
        "*   `age`: passenger age in years (fractional if age is less than 1; if age is estimated, it is in the form xx.5)\n",
        "*   `sibsp`: number of siblings/spouses aboard (includes step-siblings; mistresses and fiances ignored)\n",
        "*   `parch`: number of parents/children aboard (parent only considers mother or father; child includes stepchildren)\n",
        "*   `ticket`: ticket number\n",
        "*   `fare`: passenger fare (in pre-1970 British pounds)\n",
        "*   `cabin`: cabin number\n",
        "*   `embarked`: port of embarkation (C=Cherbourg, Q=Queenstown, S=Southampton)\n",
        "*   `boat`: lifeboat number (if passenger boarded one)\n",
        "*   `body`: body identification number\n",
        "*   `home.dest`: passenger home/destination\n",
        "\n",
        "Using the concepts we have covered in class so far, develop a classification system that will learn patterns in the [`titanic.csv`](https://www.ecst.csuchico.edu/~bjuliano/csci581/datasets/titanic.csv) data file and accurately predict whether a passenger will survive or not."
      ]
    },
    {
      "cell_type": "markdown",
      "metadata": {
        "id": "bGde1jVxpgo-"
      },
      "source": [
        "## Required components of your submission \n",
        "\n",
        "Your *Google Colab* Jupyter notebook must include:\n",
        "\n",
        "1.   all pertinent *exploratory data analysis* (EDA) code, visualizations, and justifications;\n",
        "2.   explanations/justifications for all model selection decisions;\n",
        "3.   all pertinent model diagnostics, including metrics and visualizations; and\n",
        "4.   your final model equation.\n",
        "\n",
        "Be sure to check out or review the *Assignments/Projects* section of our [*Blackboard*](https://learn.csuchico.edu/) course page for details regarding expectations, requirements, and the [*Jupyter Notebook Rubric*](https://www.ecst.csuchico.edu/~bjuliano/Teaching/rubric-jupyter-notebook.pdf) that will be used to evaluate Jupyter notebook submissions.\n",
        "\n"
      ]
    },
    {
      "cell_type": "markdown",
      "metadata": {
        "id": "I25SaMi_1Pfm"
      },
      "source": [
        "# Solution"
      ]
    }
  ]
}